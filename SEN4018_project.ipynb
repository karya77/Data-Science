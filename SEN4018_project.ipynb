{
  "nbformat": 4,
  "nbformat_minor": 0,
  "metadata": {
    "colab": {
      "name": "Copy of SEN4018_2",
      "provenance": [],
      "collapsed_sections": []
    },
    "kernelspec": {
      "name": "python3",
      "display_name": "Python 3"
    },
    "language_info": {
      "name": "python"
    }
  },
  "cells": [
    {
      "cell_type": "code",
      "execution_count": null,
      "metadata": {
        "id": "FjewJ8GneHHc"
      },
      "outputs": [],
      "source": [
        "import pandas as pd\n",
        "import numpy as np\n",
        "import os\n",
        "import seaborn as sns\n",
        "import matplotlib.pyplot as plt\n",
        "import matplotlib.mlab as mlab\n",
        "import matplotlib\n",
        "plt.style.use('ggplot')\n",
        "from matplotlib.pyplot import figure\n",
        "#We import all libraries we used\n",
        "%matplotlib inline\n",
        "matplotlib.rcParams['figure.figsize'] = (30,15)\n",
        "pd.options.mode.chained_assignment = None\n",
        "#We added our dataset \n",
        "mny = pd.read_csv('billionairesData.csv')\n",
        "#This part shows the data types in our dataset\n",
        "print(mny.shape)\n",
        "print(mny.dtypes)\n",
        "\n",
        "mny_numeric = mny.select_dtypes(include=[np.number])\n",
        "numeric_cols = mny_numeric.columns.values\n",
        "print(numeric_cols)\n",
        "\n",
        "mny_non_numeric = mny.select_dtypes(exclude=[np.number])\n",
        "non_numeric_cols = mny_non_numeric.columns.values\n",
        "print(non_numeric_cols)"
      ]
    },
    {
      "cell_type": "code",
      "source": [
        "#Missing values heat map \n",
        "cols = mny.columns[:22] \n",
        "colours = ['#000099', '#ffff00'] #blue is for missing value and yellow is for not missing value\n",
        "sns.heatmap(mny[cols].isnull(), cmap=sns.color_palette(colours))"
      ],
      "metadata": {
        "id": "7xm9DJhoNelV"
      },
      "execution_count": null,
      "outputs": []
    },
    {
      "cell_type": "code",
      "source": [
        "#Percenrage of missing values\n",
        "for col in mny.columns:\n",
        "    pct_missing = np.mean(mny[col].isnull())\n",
        "    print('{} - {}%'.format(col, round(pct_missing*100)))"
      ],
      "metadata": {
        "id": "GAi73ddjeiNC"
      },
      "execution_count": null,
      "outputs": []
    },
    {
      "cell_type": "code",
      "source": [
        "#How many missing value we have ?(none)\n",
        "num_missing = mny.isna().sum()\n",
        "num_missing[:22]"
      ],
      "metadata": {
        "id": "bAAoxuRZerym"
      },
      "execution_count": null,
      "outputs": []
    },
    {
      "cell_type": "code",
      "source": [
        "#Delete the duplicate lines.\n",
        "mny.drop_duplicates()"
      ],
      "metadata": {
        "id": "kHAoqf11ek93"
      },
      "execution_count": null,
      "outputs": []
    },
    {
      "cell_type": "code",
      "source": [
        "mny.head(2615),mny.tail(2615)"
      ],
      "metadata": {
        "id": "N6EOzK_CetMx"
      },
      "execution_count": null,
      "outputs": []
    },
    {
      "cell_type": "code",
      "source": [
        "#Shows us the statistical values like min,max,mean value...\n",
        "mny.describe().T"
      ],
      "metadata": {
        "id": "RSNzrKk-jf6z"
      },
      "execution_count": null,
      "outputs": []
    },
    {
      "cell_type": "code",
      "source": [
        "#This part is measure the IQR.\n",
        "Q1 = mny.quantile(0.25)\n",
        "Q3 = mny.quantile(0.75)\n",
        "IQR = Q3 - Q1\n",
        "print(IQR)"
      ],
      "metadata": {
        "id": "D2NcyzNK2UuF"
      },
      "execution_count": null,
      "outputs": []
    },
    {
      "cell_type": "code",
      "source": [
        "#Shows the outliers and where are they .\n",
        "print((mny < (Q1 - 1.5 * IQR)) |(mny > (Q3 + 1.5 * IQR)))"
      ],
      "metadata": {
        "id": "fzvb6wMD2bRv"
      },
      "execution_count": null,
      "outputs": []
    },
    {
      "cell_type": "code",
      "source": [
        "#Delete the outliers\n",
        "mny = mny[~((mny < (Q1 - 1.5 * IQR)) |(mny > (Q3 + 1.5 * IQR))).any(axis=1)]\n",
        "mny.shape"
      ],
      "metadata": {
        "colab": {
          "base_uri": "https://localhost:8080/"
        },
        "id": "8OsnOwsA1xoG",
        "outputId": "accb4c85-5c2c-4742-d60a-6d03aaca36d6"
      },
      "execution_count": null,
      "outputs": [
        {
          "output_type": "execute_result",
          "data": {
            "text/plain": [
              "(1814, 18)"
            ]
          },
          "metadata": {},
          "execution_count": 12
        }
      ]
    },
    {
      "cell_type": "code",
      "source": [
        "#Shows the outliers and where are they .\n",
        "print((mny < (Q1 - 1.5 * IQR)) |(mny > (Q3 + 1.5 * IQR)))"
      ],
      "metadata": {
        "id": "4ISLgGE_XTOU"
      },
      "execution_count": null,
      "outputs": []
    },
    {
      "cell_type": "code",
      "source": [
        "#Statistical values after delete outliers\n",
        "mny.describe().T"
      ],
      "metadata": {
        "id": "p50pyBJ2X79I"
      },
      "execution_count": null,
      "outputs": []
    },
    {
      "cell_type": "code",
      "source": [
        "#Histograms\n",
        "mny.hist(figsize=(30,15))"
      ],
      "metadata": {
        "id": "g6geNGiJ4xNx"
      },
      "execution_count": null,
      "outputs": []
    },
    {
      "cell_type": "code",
      "source": [
        "#All histograms in a one table\n",
        "mny.boxplot(figsize=(30,15))"
      ],
      "metadata": {
        "id": "vZeCyDBV5S_5"
      },
      "execution_count": null,
      "outputs": []
    },
    {
      "cell_type": "code",
      "source": [
        "#Rank  boxplot\n",
        "mny.boxplot(column=['rank'],figsize=(30,15))"
      ],
      "metadata": {
        "id": "4hpnFIWzhGI_"
      },
      "execution_count": null,
      "outputs": []
    },
    {
      "cell_type": "code",
      "source": [
        "#Year boxplot\n",
        "mny.boxplot(column=['year'],figsize=(30,15))"
      ],
      "metadata": {
        "id": "SqkEtpbDhN3b"
      },
      "execution_count": null,
      "outputs": []
    },
    {
      "cell_type": "code",
      "source": [
        "#Company foundation year boxplot\n",
        "mny.boxplot(column=['company_founded'],figsize=(30,15))"
      ],
      "metadata": {
        "id": "dSOONn9IhXTw"
      },
      "execution_count": null,
      "outputs": []
    },
    {
      "cell_type": "code",
      "source": [
        "#Billionaires age boxplot\n",
        "mny.boxplot(column=['demographics_age'],figsize=(30,15))"
      ],
      "metadata": {
        "id": "gDfTFkjshdNg"
      },
      "execution_count": null,
      "outputs": []
    },
    {
      "cell_type": "code",
      "source": [
        "#Billiionaires wealth box plot\n",
        "mny.boxplot(column=['wealth_worth in billions'],figsize=(30,15))"
      ],
      "metadata": {
        "id": "9sci_BeVhrlt"
      },
      "execution_count": null,
      "outputs": []
    },
    {
      "cell_type": "code",
      "source": [
        "#This is a scatter plot whic is shows us company foundation years and billionaires wealth\n",
        "sns.relplot(data = mny, x = 'company_founded', y = 'wealth_worth in billions',\n",
        "            hue='demographics_gender',height=10,aspect=2)\n",
        "plt.show()"
      ],
      "metadata": {
        "id": "zzuOdcjBT-Ky"
      },
      "execution_count": null,
      "outputs": []
    },
    {
      "cell_type": "code",
      "source": [
        "#How many billionaires in which industry? shows this with bar plot\n",
        "city = mny['wealth_how_industry'].value_counts(ascending=False)\n",
        "mny_city = mny.filter(['wealth_how_industry'], axis=1)\n",
        "mny_city['count'] = 1\n",
        "grouped_city = mny_city.groupby('wealth_how_industry', as_index=False,sort=False).sum()\n",
        "grouped_city.sort_index(ascending=False)\n",
        "grouped_city = grouped_city.sort_values('count', ascending=False)                            \n",
        "plt.figure(figsize=(30,15))\n",
        "sns.barplot(data=grouped_city, x='count', y='wealth_how_industry')\n",
        "plt.xlabel('Count of billioners',fontsize=15)\n",
        "plt.ylabel('Name of the industry',fontsize=15)\n",
        "plt.title('Industries of Billioners', fontsize=20)"
      ],
      "metadata": {
        "id": "z_Kw4AjOrIZ0"
      },
      "execution_count": null,
      "outputs": []
    },
    {
      "cell_type": "code",
      "source": [
        "\n",
        "plt.figure(figsize=(30,15))\n",
        "g = sns.FacetGrid(data=mny, hue='wealth_how_industry', aspect=3, height=4)\n",
        "g.map(sns.kdeplot, 'demographics_age', shade=True)\n",
        "plt.xlabel('Age')\n",
        "g.add_legend(title='wealth_how_industry')"
      ],
      "metadata": {
        "id": "cS-Zz5WHoVfp"
      },
      "execution_count": null,
      "outputs": []
    },
    {
      "cell_type": "code",
      "source": [
        "#How much money does anyone\n",
        "plt.figure(figsize=(30,15))\n",
        "sns.distplot(mny['wealth_worth in billions'])\n",
        "plt.xscale('log')"
      ],
      "metadata": {
        "id": "5TzLTmnWs5-h"
      },
      "execution_count": null,
      "outputs": []
    },
    {
      "cell_type": "markdown",
      "source": [
        "en zengin ilk 10 kisi???"
      ],
      "metadata": {
        "id": "EM0GKBWts_zp"
      }
    },
    {
      "cell_type": "code",
      "source": [
        "#Top 10 Billionaires\n",
        "mny = mny.sort_values(by = [\"wealth_worth_in_billions\"], ascending=False).head(10)\n",
        "plt.figure(figsize=(30, 15))\n",
        "sns.histplot(x=\"name\", hue=\"wealth_worth_in_billions\", data=mny)\n",
        "plt.show()"
      ],
      "metadata": {
        "id": "ESMn5eQTs_bA"
      },
      "execution_count": null,
      "outputs": []
    },
    {
      "cell_type": "code",
      "source": [
        "#The average age of our billionaires\n",
        "plt.figure(figsize=(30,15))\n",
        "sns.distplot(mny['demographics_age'], bins=15)\n",
        "plt.title('Average Age of Billionaires')\n",
        "plt.xlabel('Billionaires Age')\n",
        "plt.show()"
      ],
      "metadata": {
        "id": "YquOquULtT9Q"
      },
      "execution_count": null,
      "outputs": []
    },
    {
      "cell_type": "code",
      "source": [
        "#Shows us inheritance in sectors.\n",
        "sns.displot(mny, x=\"company_sector\", hue=\"wealth_how_inherited\",\n",
        "            multiple='stack',height=10,aspect=2,)"
      ],
      "metadata": {
        "id": "Pkyb9c-DDHJp"
      },
      "execution_count": null,
      "outputs": []
    },
    {
      "cell_type": "code",
      "source": [
        "sns.catplot(x=\"wealth_worth_in_billions\", y=\"company_founded\",\n",
        "            col=\"demographics_gender\", aspect=.70,height=10,\n",
        "            kind=\"swarm\", data=mny)"
      ],
      "metadata": {
        "id": "aUsTRpSzVqHL"
      },
      "execution_count": null,
      "outputs": []
    },
    {
      "cell_type": "code",
      "source": [
        "sns.catplot(x=\"wealth_how_category\", y=\"year\", hue=\"demographics_gender\", \n",
        "            kind=\"bar\", \n",
        "            height=10,data=mny)"
      ],
      "metadata": {
        "id": "NNr9wqBRpKA5"
      },
      "execution_count": null,
      "outputs": []
    },
    {
      "cell_type": "code",
      "source": [
        "#Countplot code\n",
        "sns.catplot(y=\"company_type\", hue=\"wealth_how_inherited\", kind=\"count\",\n",
        "            palette=\"pastel\", edgecolor=\".6\",height=10,aspect=2,\n",
        "            data=mny)"
      ],
      "metadata": {
        "id": "lRqnsbU2L1Fo"
      },
      "execution_count": null,
      "outputs": []
    },
    {
      "cell_type": "code",
      "source": [
        "sns.displot(mny,x='location_country_code',bins=3)"
      ],
      "metadata": {
        "id": "yxEZPnlRrTS6"
      },
      "execution_count": null,
      "outputs": []
    },
    {
      "cell_type": "code",
      "source": [
        "sns.catplot(data = mny, x = 'wealth_how_inherited', \n",
        "            y = 'location_country_code',hue='demographics_age'\n",
        "            ,kind='swarm',height=10,aspect=2)\n",
        "plt.show()\n"
      ],
      "metadata": {
        "id": "5Rw70Mwlt_zJ"
      },
      "execution_count": null,
      "outputs": []
    },
    {
      "cell_type": "code",
      "source": [
        "\n",
        "sns.relplot(x=\"demographics_gender\", y='company_sector' ,\n",
        "                hue=('demographics_age'),data=mny,\n",
        "                height=10, aspect=.7)"
      ],
      "metadata": {
        "id": "XXx7xhwVVPJF"
      },
      "execution_count": null,
      "outputs": []
    },
    {
      "cell_type": "code",
      "source": [
        "#Distributions of gende by company sectors\n",
        "sns.catplot(data = mny, x = 'demographics_gender', \n",
        "            y ='company_sector',height=5,aspect=4)\n",
        "\n",
        "plt.show()"
      ],
      "metadata": {
        "id": "v4uuzTNvfT4B"
      },
      "execution_count": null,
      "outputs": []
    },
    {
      "cell_type": "code",
      "source": [
        "sns.relplot(data = mny, x ='wealth_worth_in_billions',\n",
        "            y ='company_type',hue='company_sector',height=5)\n",
        "plt.show()\n"
      ],
      "metadata": {
        "id": "J5RfmtqrLodw"
      },
      "execution_count": null,
      "outputs": []
    },
    {
      "cell_type": "code",
      "source": [
        "sns.pairplot(mny)"
      ],
      "metadata": {
        "id": "BgSR_0wGvo8M"
      },
      "execution_count": null,
      "outputs": []
    },
    {
      "cell_type": "code",
      "source": [
        "#Measuring correlation\n",
        "plt.subplots(figsize=(30,15))\n",
        "corr=mny.corr()\n",
        "sns.heatmap(corr,annot=True, cmap='Blues')\n",
        "plt.title(\"correlation between the variable\")\n",
        "plt.xticks(rotation=45)"
      ],
      "metadata": {
        "id": "CrTISTAIqhd7"
      },
      "execution_count": null,
      "outputs": []
    },
    {
      "cell_type": "code",
      "source": [
        "#We changed the all columns name\n",
        "mny.columns =['name', 'rank', 'year', 'company_founded', 'company_name',\n",
        "       'company_relationship', 'company_sector', 'company_type',\n",
        "       'demographics_age', 'demographics_gender', 'location_citizenship',\n",
        "       'location_country_code', 'location_region', 'wealth_type',\n",
        "       'wealth_worth_in_billions', 'wealth_how_category',\n",
        "       'wealth_how_industry', 'wealth_how_inherited']\n"
      ],
      "metadata": {
        "id": "L9V5C-lIC2PI"
      },
      "execution_count": null,
      "outputs": []
    },
    {
      "cell_type": "code",
      "source": [
        "from sklearn import preprocessing\n",
        "le = preprocessing.LabelEncoder()\n",
        "#We tried all models and got the results.\n",
        "mny.name= le.fit_transform(mny['name'])\n",
        "mny.year= le.fit_transform(mny['year'])\n",
        "mny.company_founded= le.fit_transform(mny['company_founded'])\n",
        "mny.company_relationship= le.fit_transform(mny['company_relationship'])\n",
        "mny.company_sector= le.fit_transform(mny['company_sector'])\n",
        "mny.company_type= le.fit_transform(mny['company_type'])\n",
        "mny.demographics_age= le.fit_transform(mny['demographics_age'])\n",
        "mny.demographics_gender= le.fit_transform(mny['demographics_gender'])\n",
        "mny.location_citizenship= le.fit_transform(mny['location_citizenship'])\n",
        "mny.company_name = le.fit_transform(mny['company_name'])\n",
        "mny.location_region= le.fit_transform(mny['location_region'])\n",
        "mny.location_country_code= le.fit_transform(mny['location_country_code'])\n",
        "mny.wealth_type= le.fit_transform(mny['wealth_type'])\n",
        "mny.wealth_how_category= le.fit_transform(mny['wealth_how_category'])\n",
        "mny.wealth_how_industry= le.fit_transform(mny['wealth_how_industry'])\n",
        "mny.wealth_how_inherited= le.fit_transform(mny['wealth_how_inherited'])\n",
        "mny.wealth_worth_in_billions= le.fit_transform(mny['wealth_worth_in_billions'])\n",
        "mny.head()"
      ],
      "metadata": {
        "id": "0pzX8T58YaIo"
      },
      "execution_count": null,
      "outputs": []
    },
    {
      "cell_type": "code",
      "source": [
        "from sklearn.model_selection import train_test_split \n",
        "predictors = mny.drop([\"wealth_worth_in_billions\"], axis=1)\n",
        "target = mny[\"wealth_worth_in_billions\"]\n",
        "X_train, X_test, y_train, y_test = train_test_split(predictors, target, test_size = 0.25, random_state = 0)\n"
      ],
      "metadata": {
        "id": "RC0n66WsqR1O"
      },
      "execution_count": null,
      "outputs": []
    },
    {
      "cell_type": "code",
      "source": [
        "from sklearn.neighbors import KNeighborsClassifier\n",
        "from sklearn.tree import DecisionTreeClassifier\n",
        "from sklearn.ensemble import RandomForestClassifier\n",
        "\n",
        "models = []\n",
        "models.append(('Decision Tree (CART)',DecisionTreeClassifier())) \n",
        "models.append(('K-NN', KNeighborsClassifier()))\n",
        "models.append(('RandomForestClassifier', RandomForestClassifier()))\n",
        "\n",
        "for name, model in models:\n",
        "    model = model.fit(X_train, y_train)\n",
        "    y_pred = model.predict(X_test)\n",
        "    from sklearn import metrics\n",
        "\n",
        "    print(\"%s -> ACC: %%%.2f\" % (name,metrics.accuracy_score(y_test, y_pred)*100))\n"
      ],
      "metadata": {
        "id": "4CXgYgQG67o1"
      },
      "execution_count": null,
      "outputs": []
    },
    {
      "cell_type": "code",
      "source": [
        "mny.hist()"
      ],
      "metadata": {
        "id": "ZobIKc_6MqkY"
      },
      "execution_count": null,
      "outputs": []
    }
  ]
}